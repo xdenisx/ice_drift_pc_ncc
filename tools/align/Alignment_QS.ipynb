{
 "cells": [
  {
   "cell_type": "code",
   "execution_count": 16,
   "id": "39890a00",
   "metadata": {},
   "outputs": [],
   "source": [
    "from AlignSAR import *"
   ]
  },
  {
   "cell_type": "code",
   "execution_count": 18,
   "id": "8bf51e19",
   "metadata": {},
   "outputs": [
    {
     "name": "stdout",
     "output_type": "stream",
     "text": [
      "Alignment method: piecewise-affine\n",
      "\n",
      "Estimating piecewise-affine transformation...\n",
      "Done.\n",
      "\n",
      "Warping /data/rrs/seaice/esa_rosel/notebook_tutorial/images/060/UPS_XX_ALOS2_XX_XXXX_XXXX_20191028T174022_20191028T174114_0000326209_001001_ALOS2293291900-191028.tiff\n",
      "CPU times: user 25min 10s, sys: 13.9 s, total: 25min 24s\n",
      "Wall time: 25min 3s\n"
     ]
    }
   ],
   "source": [
    "%%time\n",
    "a = Alignment(img1_path='/data/rrs/seaice/esa_rosel/notebook_tutorial/images/060/UPS_XX_ALOS2_XX_XXXX_XXXX_20191028T174022_20191028T174114_0000326209_001001_ALOS2293291900-191028.tiff',\n",
    "              img2_path='/data/rrs/seaice/esa_rosel/notebook_tutorial/images/060/UPS_XX_S1B_EW_GRDM_1SDH_20191031T170040_20191031T170144_018722_02349F_0FA6.tiff',\n",
    "              displacement_path='/data/rrs/seaice/esa_rosel/notebook_tutorial/drift/060/output/fltrd_CTU_drift_20191028T174022-20191031T170040.csv',\n",
    "              out_path='/data/rrs/seaice/esa_rosel/notebook_tutorial/test_results')"
   ]
  },
  {
   "cell_type": "code",
   "execution_count": null,
   "id": "d7c116fb",
   "metadata": {},
   "outputs": [],
   "source": []
  }
 ],
 "metadata": {
  "kernelspec": {
   "display_name": "Python 3 (ipykernel)",
   "language": "python",
   "name": "python3"
  },
  "language_info": {
   "codemirror_mode": {
    "name": "ipython",
    "version": 3
   },
   "file_extension": ".py",
   "mimetype": "text/x-python",
   "name": "python",
   "nbconvert_exporter": "python",
   "pygments_lexer": "ipython3",
   "version": "3.10.4"
  }
 },
 "nbformat": 4,
 "nbformat_minor": 5
}
