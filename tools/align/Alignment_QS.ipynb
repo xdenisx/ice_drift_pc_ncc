{
 "cells": [
  {
   "cell_type": "code",
   "execution_count": 1,
   "id": "906e526b",
   "metadata": {},
   "outputs": [],
   "source": [
    "import os"
   ]
  },
  {
   "cell_type": "code",
   "execution_count": 2,
   "id": "df14c247",
   "metadata": {},
   "outputs": [],
   "source": [
    "# 1. Define paths to folders containing images and the displacement data\n",
    "# Please note, currently the script support structure like the following:\n",
    "#\n",
    "# root\n",
    "# -images/NN\n",
    "# -drift_data/NN/output\n",
    "# \n",
    "# where NN is a system number of a pair (you can define any number but should be consistent for the two folders)\n",
    "#\n",
    "# Test data are availble here: https://chalmers-my.sharepoint.com/:u:/g/personal/demchev_chalmers_se/EfdHJuoHcspLicmyJioLnREBGHEZ3sqLDrHPzawASAyInQ?e=DF1yWz"
   ]
  },
  {
   "cell_type": "code",
   "execution_count": 11,
   "id": "9c4734ad",
   "metadata": {},
   "outputs": [],
   "source": [
    "PAIRS_PATH='/data/rrs/seaice/esa_rosel/notebook_tutorial/images'\n",
    "\n",
    "DRIFT_RESULTS_PATH='/data/rrs/seaice/esa_rosel/notebook_tutorial/drift'\n",
    "\n",
    "ALIGNMENTS_PATH='/data/rrs/seaice/esa_rosel/notebook_tutorial/test_alignment'\n",
    "ALIGNMENT_METHOD='piecewise-affine'\n",
    "ALIGNMENT_POLYNOMIAL_ORDER=3\n",
    "\n",
    "os.makedirs(ALIGNMENTS_PATH, exist_ok=True)"
   ]
  },
  {
   "cell_type": "code",
   "execution_count": 12,
   "id": "68c670b8",
   "metadata": {},
   "outputs": [],
   "source": [
    "# 2. Navigate into the directory containing alignment script"
   ]
  },
  {
   "cell_type": "code",
   "execution_count": 13,
   "id": "5ecbeb25",
   "metadata": {},
   "outputs": [
    {
     "name": "stdout",
     "output_type": "stream",
     "text": [
      "/home/denis/git/dev/ice_drift_pc_ncc/tools/align\n"
     ]
    }
   ],
   "source": [
    "cd /home/denis/git/dev/ice_drift_pc_ncc/tools/align"
   ]
  },
  {
   "cell_type": "code",
   "execution_count": 14,
   "id": "bda77175",
   "metadata": {},
   "outputs": [],
   "source": [
    "# 3. Run the script with corresponding arguments to perform alignment and store result in the folder 'ALIGNMENTS_PATH'"
   ]
  },
  {
   "cell_type": "code",
   "execution_count": 15,
   "id": "22cdf767",
   "metadata": {},
   "outputs": [
    {
     "name": "stdout",
     "output_type": "stream",
     "text": [
      "Aligning using method: piecewise-affine\n",
      "Running pair #060\n",
      "/data/rrs/seaice/esa_rosel/notebook_tutorial/images/060/UPS_XX_ALOS2_XX_XXXX_XXXX_20191028T174022_20191028T174114_0000326209_001001_ALOS2293291900-191028.tiff\n",
      "/data/rrs/seaice/esa_rosel/notebook_tutorial/images/060/UPS_XX_S1B_EW_GRDM_1SDH_20191031T170040_20191031T170144_018722_02349F_0FA6.tiff\n",
      "\n",
      "Computing piecewise-affine transformation...\n",
      "Done.\n",
      "\n",
      "Warping UPS_XX_ALOS2_XX_XXXX_XXXX_20191028T174022_20191028T174114_0000326209_001001_ALOS2293291900-191028.tiff\n",
      "\n",
      "Start back-alignment...\n",
      "Aligned image: /data/rrs/seaice/esa_rosel/notebook_tutorial/test_alignment/060/Aligned_UPS_XX_ALOS2_XX_XXXX_XXXX_20191028T174022_20191028T174114_0000326209_001001_ALOS2293291900-191028.tiff\n",
      "Done.\n",
      "Warping UPS_XX_S1B_EW_GRDM_1SDH_20191031T170040_20191031T170144_018722_02349F_0FA6.tiff\n",
      "\n",
      "CPU times: user 1h 15min 17s, sys: 3min 2s, total: 1h 18min 20s\n",
      "Wall time: 1h 17min 56s\n"
     ]
    }
   ],
   "source": [
    "%%time\n",
    "%run align.py {PAIRS_PATH} {DRIFT_RESULTS_PATH} {ALIGNMENTS_PATH} {ALIGNMENT_METHOD} {ALIGNMENT_POLYNOMIAL_ORDER}"
   ]
  },
  {
   "cell_type": "code",
   "execution_count": null,
   "id": "4bae2b12",
   "metadata": {},
   "outputs": [],
   "source": [
    "# 4. Check the result in the 'ALIGNMENTS_PATH'"
   ]
  }
 ],
 "metadata": {
  "kernelspec": {
   "display_name": "Python 3 (ipykernel)",
   "language": "python",
   "name": "python3"
  },
  "language_info": {
   "codemirror_mode": {
    "name": "ipython",
    "version": 3
   },
   "file_extension": ".py",
   "mimetype": "text/x-python",
   "name": "python",
   "nbconvert_exporter": "python",
   "pygments_lexer": "ipython3",
   "version": "3.10.4"
  }
 },
 "nbformat": 4,
 "nbformat_minor": 5
}
