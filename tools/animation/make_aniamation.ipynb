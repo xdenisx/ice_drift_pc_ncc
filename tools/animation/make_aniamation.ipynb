{
 "cells": [
  {
   "cell_type": "code",
   "execution_count": 36,
   "id": "394b5387",
   "metadata": {},
   "outputs": [],
   "source": [
    "import glob\n",
    "import matplotlib.pyplot as plt\n",
    "import numpy as np\n",
    "import matplotlib.animation as animation\n",
    "from PIL import Image\n",
    "\n",
    "def make_animation(frame_folder=None,\n",
    "                   out_fname=None,\n",
    "                   anim_type='gif',\n",
    "                   img_type='jpg',\n",
    "                   duration=100,\n",
    "                   bitrate=1800,\n",
    "                   interval=1,\n",
    "                   fps=2):\n",
    "    ''' Generate an animation from a sequence of images '''\n",
    "    \n",
    "    if anim_type in ['gif', 'mp4']:\n",
    "        frames = [Image.open(image) for image in sorted(glob.glob(f\"{frame_folder}/*.{img_type}\"))]\n",
    "        if anim_type=='gif':\n",
    "            frame_one = frames[0]\n",
    "            frame_one.save(out_fname, format=\"GIF\",\n",
    "                           append_images=frames,\n",
    "                           save_all=True,\n",
    "                           duration=duration,\n",
    "                           loop=0)\n",
    "        elif anim_type == 'mp4':\n",
    "            ims = []\n",
    "            fig, ax = plt.subplots()\n",
    "            for i, iframe in enumerate(frames):\n",
    "                im = ax.imshow(iframe, animated=True)\n",
    "                if i == 0:\n",
    "                    ax.imshow(iframe)  # show an initial one first\n",
    "                ims.append([im])\n",
    "\n",
    "            ani = animation.ArtistAnimation(fig, ims, interval=interval,\n",
    "                                            blit=True,\n",
    "                                            repeat_delay=0)\n",
    "\n",
    "            writer = animation.FFMpegWriter(fps=fps, metadata=dict(artist='Me'), bitrate=bitrate)\n",
    "            ani.save(out_fname, writer=writer)\n",
    "        else:\n",
    "            pass\n",
    "    else:\n",
    "        print('Error: animation type can be gif or mp4, {} provided'.format(anim_type))\n",
    "    \n",
    "if __name__ == \"__main__\":\n",
    "    make_animation('/data/rrs/s1/Baffin/drift_png',\n",
    "                   '/data/rrs/s1/Baffin/test_animation/test.gif',\n",
    "                   anim_type='gif',\n",
    "                   img_type='png')"
   ]
  },
  {
   "cell_type": "code",
   "execution_count": null,
   "id": "2417aca0",
   "metadata": {},
   "outputs": [],
   "source": []
  }
 ],
 "metadata": {
  "kernelspec": {
   "display_name": "Python 3 (ipykernel)",
   "language": "python",
   "name": "python3"
  },
  "language_info": {
   "codemirror_mode": {
    "name": "ipython",
    "version": 3
   },
   "file_extension": ".py",
   "mimetype": "text/x-python",
   "name": "python",
   "nbconvert_exporter": "python",
   "pygments_lexer": "ipython3",
   "version": "3.10.9"
  }
 },
 "nbformat": 4,
 "nbformat_minor": 5
}
